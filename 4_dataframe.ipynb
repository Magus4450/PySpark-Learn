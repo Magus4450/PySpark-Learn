{
 "cells": [
  {
   "cell_type": "code",
   "execution_count": 1,
   "metadata": {},
   "outputs": [],
   "source": [
    "from pyspark.sql import SparkSession"
   ]
  },
  {
   "cell_type": "code",
   "execution_count": 2,
   "metadata": {},
   "outputs": [
    {
     "name": "stderr",
     "output_type": "stream",
     "text": [
      "bash: /home/magus/miniconda3/envs/nlp/lib/libtinfo.so.6: no version information available (required by bash)\n",
      "bash: /home/magus/miniconda3/envs/nlp/lib/libtinfo.so.6: no version information available (required by bash)\n",
      "22/12/21 20:42:10 WARN Utils: Your hostname, Magus resolves to a loopback address: 127.0.1.1; using 172.26.192.58 instead (on interface eth0)\n",
      "22/12/21 20:42:10 WARN Utils: Set SPARK_LOCAL_IP if you need to bind to another address\n",
      "WARNING: An illegal reflective access operation has occurred\n",
      "WARNING: Illegal reflective access by org.apache.spark.unsafe.Platform (file:/home/magus/spark-3.1.1-bin-hadoop3.2/jars/spark-unsafe_2.12-3.1.1.jar) to constructor java.nio.DirectByteBuffer(long,int)\n",
      "WARNING: Please consider reporting this to the maintainers of org.apache.spark.unsafe.Platform\n",
      "WARNING: Use --illegal-access=warn to enable warnings of further illegal reflective access operations\n",
      "WARNING: All illegal access operations will be denied in a future release\n",
      "22/12/21 20:42:11 WARN NativeCodeLoader: Unable to load native-hadoop library for your platform... using builtin-java classes where applicable\n",
      "Using Spark's default log4j profile: org/apache/spark/log4j-defaults.properties\n",
      "Setting default log level to \"WARN\".\n",
      "To adjust logging level use sc.setLogLevel(newLevel). For SparkR, use setLogLevel(newLevel).\n",
      "22/12/21 20:42:12 WARN Utils: Service 'SparkUI' could not bind on port 4040. Attempting port 4041.\n",
      "22/12/21 20:42:12 WARN Utils: Service 'SparkUI' could not bind on port 4041. Attempting port 4042.\n"
     ]
    }
   ],
   "source": [
    "spark = SparkSession.builder.master('local[1]') \\\n",
    "        .appName('DataFrame') \\\n",
    "        .getOrCreate()"
   ]
  },
  {
   "cell_type": "code",
   "execution_count": 3,
   "metadata": {},
   "outputs": [],
   "source": [
    "# Dummy data\n",
    "\n",
    "columns = [\"language\", \"users_count\"]\n",
    "data = [\n",
    "    (\"Java\", \"20000\"),\n",
    "    (\"Python\", \"100000\"),\n",
    "    (\"Scala\", \"3000\")\n",
    "]\n",
    "\n",
    "\n"
   ]
  },
  {
   "attachments": {},
   "cell_type": "markdown",
   "metadata": {},
   "source": [
    "### From RDD"
   ]
  },
  {
   "cell_type": "code",
   "execution_count": 5,
   "metadata": {},
   "outputs": [
    {
     "name": "stderr",
     "output_type": "stream",
     "text": [
      "                                                                                \r"
     ]
    },
    {
     "data": {
      "text/plain": [
       "[('Java', '20000')]"
      ]
     },
     "execution_count": 5,
     "metadata": {},
     "output_type": "execute_result"
    }
   ],
   "source": [
    "# Dataframe from RDD\n",
    "\n",
    "rdd = spark.sparkContext.parallelize(data)\n",
    "rdd.take(1)\n"
   ]
  },
  {
   "cell_type": "code",
   "execution_count": 8,
   "metadata": {},
   "outputs": [
    {
     "name": "stdout",
     "output_type": "stream",
     "text": [
      "root\n",
      " |-- language: string (nullable = true)\n",
      " |-- users_count: string (nullable = true)\n",
      "\n"
     ]
    }
   ],
   "source": [
    "# Using toDF()\n",
    "\n",
    "df_from_rdd = rdd.toDF(columns)\n",
    "df_from_rdd.printSchema()"
   ]
  },
  {
   "cell_type": "code",
   "execution_count": 10,
   "metadata": {},
   "outputs": [
    {
     "name": "stdout",
     "output_type": "stream",
     "text": [
      "root\n",
      " |-- language: string (nullable = true)\n",
      " |-- users_count: string (nullable = true)\n",
      "\n"
     ]
    }
   ],
   "source": [
    "# Using createDataFrame()\n",
    "\n",
    "df_from_cdf = spark.createDataFrame(rdd).toDF(*columns)\n",
    "df_from_cdf.printSchema()"
   ]
  },
  {
   "attachments": {},
   "cell_type": "markdown",
   "metadata": {},
   "source": [
    "### From List"
   ]
  },
  {
   "cell_type": "code",
   "execution_count": 12,
   "metadata": {},
   "outputs": [
    {
     "name": "stdout",
     "output_type": "stream",
     "text": [
      "root\n",
      " |-- language: string (nullable = true)\n",
      " |-- users_count: string (nullable = true)\n",
      "\n"
     ]
    }
   ],
   "source": [
    "# Using createDataFrame\n",
    "df_from_data = spark.createDataFrame(data).toDF(*columns)\n",
    "df_from_data.printSchema()"
   ]
  },
  {
   "cell_type": "code",
   "execution_count": 14,
   "metadata": {},
   "outputs": [
    {
     "name": "stdout",
     "output_type": "stream",
     "text": [
      "root\n",
      " |-- language: string (nullable = true)\n",
      " |-- users_count: string (nullable = true)\n",
      "\n"
     ]
    }
   ],
   "source": [
    "# Using createDataFrame with row type\n",
    "from pyspark.sql import Row\n",
    "rowData = map(lambda x: Row(*x), data)\n",
    "df_from_row_data = spark.createDataFrame(rowData, columns)\n",
    "df_from_data.printSchema()"
   ]
  },
  {
   "cell_type": "code",
   "execution_count": 16,
   "metadata": {},
   "outputs": [
    {
     "name": "stdout",
     "output_type": "stream",
     "text": [
      "root\n",
      " |-- firstname: string (nullable = false)\n",
      " |-- middlename: string (nullable = true)\n",
      " |-- lastname: string (nullable = false)\n",
      " |-- id: string (nullable = false)\n",
      " |-- gender: string (nullable = false)\n",
      " |-- salary: integer (nullable = false)\n",
      "\n"
     ]
    }
   ],
   "source": [
    "# DataFrame with schema\n",
    "\n",
    "from pyspark.sql.types import StructType, StructField, StringType, IntegerType\n",
    "\n",
    "data2 = [\n",
    "    (\"Hari\", \"\", \"Nepal\", \"31561\", \"M\", 3000),\n",
    "    (\"Shyam\", \"\", \"Poudel\", \"15713\", \"M\", 5000),\n",
    "    (\"Gopal\", \"Bahadur\", \"Shrestha\", \"57231\", \"M\", 3400),\n",
    "    (\"Narayan\", \"\", \"Thapa\", \"15789\", \"M\", 90000),\n",
    "    (\"Shiva\", \"Kumar\", \"Karki\", \"12467\", \"M\", 25000)\n",
    "]\n",
    "\n",
    "schema = StructType([\n",
    "    StructField(\"firstname\", StringType(), False),\n",
    "    StructField(\"middlename\", StringType(), True),\n",
    "    StructField(\"lastname\", StringType(), False),\n",
    "    StructField(\"id\", StringType(), False),\n",
    "    StructField(\"gender\", StringType(), False),\n",
    "    StructField(\"salary\", IntegerType(), False)\n",
    "])\n",
    "\n",
    "\n",
    "df = spark.createDataFrame(data=data2, schema=schema)\n",
    "df.printSchema()"
   ]
  },
  {
   "cell_type": "code",
   "execution_count": 19,
   "metadata": {},
   "outputs": [
    {
     "name": "stdout",
     "output_type": "stream",
     "text": [
      "+---------+----------+--------+-----+------+------+\n",
      "|firstname|middlename|lastname|id   |gender|salary|\n",
      "+---------+----------+--------+-----+------+------+\n",
      "|Hari     |          |Nepal   |31561|M     |3000  |\n",
      "|Shyam    |          |Poudel  |15713|M     |5000  |\n",
      "|Gopal    |Bahadur   |Shrestha|57231|M     |3400  |\n",
      "|Narayan  |          |Thapa   |15789|M     |90000 |\n",
      "|Shiva    |Kumar     |Karki   |12467|M     |25000 |\n",
      "+---------+----------+--------+-----+------+------+\n",
      "\n"
     ]
    }
   ],
   "source": [
    "df.show(truncate=False)"
   ]
  },
  {
   "cell_type": "code",
   "execution_count": null,
   "metadata": {},
   "outputs": [],
   "source": []
  }
 ],
 "metadata": {
  "kernelspec": {
   "display_name": "env",
   "language": "python",
   "name": "python3"
  },
  "language_info": {
   "codemirror_mode": {
    "name": "ipython",
    "version": 3
   },
   "file_extension": ".py",
   "mimetype": "text/x-python",
   "name": "python",
   "nbconvert_exporter": "python",
   "pygments_lexer": "ipython3",
   "version": "3.10.8"
  },
  "orig_nbformat": 4,
  "vscode": {
   "interpreter": {
    "hash": "df63add32a7940b2e1c5aa462fbf455c5b69f07faba4f5e92570f0b1dca1de6b"
   }
  }
 },
 "nbformat": 4,
 "nbformat_minor": 2
}
