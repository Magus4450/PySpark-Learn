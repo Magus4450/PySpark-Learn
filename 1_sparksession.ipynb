{
 "cells": [
  {
   "cell_type": "code",
   "execution_count": null,
   "metadata": {},
   "outputs": [],
   "source": [
    "# SparkSessions are entry points to Spark. They are the main way to interact with Spark.\n",
    "\n",
    "from pyspark.sql import SparkSession\n",
    "\n",
    "\n"
   ]
  }
 ],
 "metadata": {
  "kernelspec": {
   "display_name": "env",
   "language": "python",
   "name": "python3"
  },
  "language_info": {
   "name": "python",
   "version": "3.10.8 (main, Oct 12 2022, 19:14:26) [GCC 9.4.0]"
  },
  "orig_nbformat": 4,
  "vscode": {
   "interpreter": {
    "hash": "df63add32a7940b2e1c5aa462fbf455c5b69f07faba4f5e92570f0b1dca1de6b"
   }
  }
 },
 "nbformat": 4,
 "nbformat_minor": 2
}
