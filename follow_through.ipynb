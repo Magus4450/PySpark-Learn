{
 "cells": [
  {
   "cell_type": "code",
   "execution_count": 16,
   "metadata": {},
   "outputs": [],
   "source": [
    "# Code follow along from https://www.kaggle.com/code/tientd95/advanced-pyspark-for-exploratory-data-analysis"
   ]
  },
  {
   "cell_type": "code",
   "execution_count": 17,
   "metadata": {},
   "outputs": [],
   "source": [
    "import os\n",
    "import sys\n",
    "import pandas as pd\n",
    "import numpy as np\n",
    "import matplotlib.pyplot as plt\n",
    "\n",
    "import seaborn as sns"
   ]
  },
  {
   "cell_type": "code",
   "execution_count": 18,
   "metadata": {},
   "outputs": [],
   "source": [
    "import pyspark\n",
    "from pyspark.sql import SparkSession\n",
    "\n",
    "spark = SparkSession.builder.master(\"local[*]\").appName(\"EDA\").getOrCreate()"
   ]
  },
  {
   "cell_type": "code",
   "execution_count": 19,
   "metadata": {},
   "outputs": [
    {
     "data": {
      "text/html": [
       "\n",
       "            <div>\n",
       "                <p><b>SparkSession - in-memory</b></p>\n",
       "                \n",
       "        <div>\n",
       "            <p><b>SparkContext</b></p>\n",
       "\n",
       "            <p><a href=\"http://172.23.232.161:4044\">Spark UI</a></p>\n",
       "\n",
       "            <dl>\n",
       "              <dt>Version</dt>\n",
       "                <dd><code>v3.1.1</code></dd>\n",
       "              <dt>Master</dt>\n",
       "                <dd><code>local[*]</code></dd>\n",
       "              <dt>AppName</dt>\n",
       "                <dd><code>EDA</code></dd>\n",
       "            </dl>\n",
       "        </div>\n",
       "        \n",
       "            </div>\n",
       "        "
      ],
      "text/plain": [
       "<pyspark.sql.session.SparkSession at 0x7fc93ce01090>"
      ]
     },
     "execution_count": 19,
     "metadata": {},
     "output_type": "execute_result"
    }
   ],
   "source": [
    "spark"
   ]
  },
  {
   "cell_type": "code",
   "execution_count": 7,
   "metadata": {},
   "outputs": [
    {
     "name": "stderr",
     "output_type": "stream",
     "text": [
      "                                                                                \r"
     ]
    }
   ],
   "source": [
    "\n",
    "# mode = DROPMALFORMED ignores whole corrupted records\n",
    "df = spark.read.json(\"./endomondoHR.json\", mode='DROPMALFORMED')"
   ]
  },
  {
   "cell_type": "code",
   "execution_count": 20,
   "metadata": {},
   "outputs": [
    {
     "data": {
      "text/plain": [
       "49"
      ]
     },
     "execution_count": 20,
     "metadata": {},
     "output_type": "execute_result"
    }
   ],
   "source": [
    "df.rdd.getNumPartitions()"
   ]
  },
  {
   "attachments": {},
   "cell_type": "markdown",
   "metadata": {},
   "source": [
    "## Overview of Dataset"
   ]
  },
  {
   "attachments": {},
   "cell_type": "markdown",
   "metadata": {},
   "source": [
    "### Schema"
   ]
  },
  {
   "cell_type": "code",
   "execution_count": 21,
   "metadata": {},
   "outputs": [
    {
     "name": "stdout",
     "output_type": "stream",
     "text": [
      "root\n",
      " |-- altitude: array (nullable = true)\n",
      " |    |-- element: double (containsNull = true)\n",
      " |-- gender: string (nullable = true)\n",
      " |-- heart_rate: array (nullable = true)\n",
      " |    |-- element: long (containsNull = true)\n",
      " |-- id: long (nullable = true)\n",
      " |-- latitude: array (nullable = true)\n",
      " |    |-- element: double (containsNull = true)\n",
      " |-- longitude: array (nullable = true)\n",
      " |    |-- element: double (containsNull = true)\n",
      " |-- speed: array (nullable = true)\n",
      " |    |-- element: double (containsNull = true)\n",
      " |-- sport: string (nullable = true)\n",
      " |-- timestamp: array (nullable = true)\n",
      " |    |-- element: long (containsNull = true)\n",
      " |-- url: string (nullable = true)\n",
      " |-- userId: long (nullable = true)\n",
      "\n"
     ]
    }
   ],
   "source": [
    "df.printSchema()"
   ]
  },
  {
   "cell_type": "code",
   "execution_count": 22,
   "metadata": {},
   "outputs": [
    {
     "data": {
      "text/html": [
       "<div>\n",
       "<style scoped>\n",
       "    .dataframe tbody tr th:only-of-type {\n",
       "        vertical-align: middle;\n",
       "    }\n",
       "\n",
       "    .dataframe tbody tr th {\n",
       "        vertical-align: top;\n",
       "    }\n",
       "\n",
       "    .dataframe thead th {\n",
       "        text-align: right;\n",
       "    }\n",
       "</style>\n",
       "<table border=\"1\" class=\"dataframe\">\n",
       "  <thead>\n",
       "    <tr style=\"text-align: right;\">\n",
       "      <th></th>\n",
       "      <th>Column Name</th>\n",
       "      <th>Data Type</th>\n",
       "    </tr>\n",
       "  </thead>\n",
       "  <tbody>\n",
       "    <tr>\n",
       "      <th>0</th>\n",
       "      <td>altitude</td>\n",
       "      <td>array&lt;double&gt;</td>\n",
       "    </tr>\n",
       "    <tr>\n",
       "      <th>1</th>\n",
       "      <td>gender</td>\n",
       "      <td>string</td>\n",
       "    </tr>\n",
       "    <tr>\n",
       "      <th>2</th>\n",
       "      <td>heart_rate</td>\n",
       "      <td>array&lt;bigint&gt;</td>\n",
       "    </tr>\n",
       "    <tr>\n",
       "      <th>3</th>\n",
       "      <td>id</td>\n",
       "      <td>bigint</td>\n",
       "    </tr>\n",
       "    <tr>\n",
       "      <th>4</th>\n",
       "      <td>latitude</td>\n",
       "      <td>array&lt;double&gt;</td>\n",
       "    </tr>\n",
       "    <tr>\n",
       "      <th>5</th>\n",
       "      <td>longitude</td>\n",
       "      <td>array&lt;double&gt;</td>\n",
       "    </tr>\n",
       "    <tr>\n",
       "      <th>6</th>\n",
       "      <td>speed</td>\n",
       "      <td>array&lt;double&gt;</td>\n",
       "    </tr>\n",
       "    <tr>\n",
       "      <th>7</th>\n",
       "      <td>sport</td>\n",
       "      <td>string</td>\n",
       "    </tr>\n",
       "    <tr>\n",
       "      <th>8</th>\n",
       "      <td>timestamp</td>\n",
       "      <td>array&lt;bigint&gt;</td>\n",
       "    </tr>\n",
       "    <tr>\n",
       "      <th>9</th>\n",
       "      <td>url</td>\n",
       "      <td>string</td>\n",
       "    </tr>\n",
       "    <tr>\n",
       "      <th>10</th>\n",
       "      <td>userId</td>\n",
       "      <td>bigint</td>\n",
       "    </tr>\n",
       "  </tbody>\n",
       "</table>\n",
       "</div>"
      ],
      "text/plain": [
       "   Column Name      Data Type\n",
       "0     altitude  array<double>\n",
       "1       gender         string\n",
       "2   heart_rate  array<bigint>\n",
       "3           id         bigint\n",
       "4     latitude  array<double>\n",
       "5    longitude  array<double>\n",
       "6        speed  array<double>\n",
       "7        sport         string\n",
       "8    timestamp  array<bigint>\n",
       "9          url         string\n",
       "10      userId         bigint"
      ]
     },
     "execution_count": 22,
     "metadata": {},
     "output_type": "execute_result"
    }
   ],
   "source": [
    "pd.DataFrame(df.dtypes, columns=[\"Column Name\", 'Data Type'])"
   ]
  },
  {
   "attachments": {},
   "cell_type": "markdown",
   "metadata": {},
   "source": [
    "### Statistical Information"
   ]
  },
  {
   "cell_type": "code",
   "execution_count": 23,
   "metadata": {},
   "outputs": [
    {
     "name": "stderr",
     "output_type": "stream",
     "text": [
      "                                                                                \r"
     ]
    },
    {
     "data": {
      "text/html": [
       "<div>\n",
       "<style scoped>\n",
       "    .dataframe tbody tr th:only-of-type {\n",
       "        vertical-align: middle;\n",
       "    }\n",
       "\n",
       "    .dataframe tbody tr th {\n",
       "        vertical-align: top;\n",
       "    }\n",
       "\n",
       "    .dataframe thead th {\n",
       "        text-align: right;\n",
       "    }\n",
       "</style>\n",
       "<table border=\"1\" class=\"dataframe\">\n",
       "  <thead>\n",
       "    <tr style=\"text-align: right;\">\n",
       "      <th></th>\n",
       "      <th>summary</th>\n",
       "      <th>gender</th>\n",
       "      <th>id</th>\n",
       "      <th>sport</th>\n",
       "      <th>url</th>\n",
       "      <th>userId</th>\n",
       "    </tr>\n",
       "  </thead>\n",
       "  <tbody>\n",
       "    <tr>\n",
       "      <th>0</th>\n",
       "      <td>count</td>\n",
       "      <td>253020</td>\n",
       "      <td>253020</td>\n",
       "      <td>253020</td>\n",
       "      <td>253020</td>\n",
       "      <td>253020</td>\n",
       "    </tr>\n",
       "    <tr>\n",
       "      <th>1</th>\n",
       "      <td>mean</td>\n",
       "      <td>None</td>\n",
       "      <td>3.566244412926132E8</td>\n",
       "      <td>None</td>\n",
       "      <td>None</td>\n",
       "      <td>4619648.939783417</td>\n",
       "    </tr>\n",
       "    <tr>\n",
       "      <th>2</th>\n",
       "      <td>stddev</td>\n",
       "      <td>None</td>\n",
       "      <td>1.574845634895318E8</td>\n",
       "      <td>None</td>\n",
       "      <td>None</td>\n",
       "      <td>3932877.7296880507</td>\n",
       "    </tr>\n",
       "    <tr>\n",
       "      <th>3</th>\n",
       "      <td>min</td>\n",
       "      <td>female</td>\n",
       "      <td>99296</td>\n",
       "      <td>aerobics</td>\n",
       "      <td>https://www.endomondo.com/users/10014612/worko...</td>\n",
       "      <td>69</td>\n",
       "    </tr>\n",
       "    <tr>\n",
       "      <th>4</th>\n",
       "      <td>max</td>\n",
       "      <td>unknown</td>\n",
       "      <td>674008008</td>\n",
       "      <td>yoga</td>\n",
       "      <td>https://www.endomondo.com/users/9991401/workou...</td>\n",
       "      <td>15481421</td>\n",
       "    </tr>\n",
       "  </tbody>\n",
       "</table>\n",
       "</div>"
      ],
      "text/plain": [
       "  summary   gender                   id     sport  \\\n",
       "0   count   253020               253020    253020   \n",
       "1    mean     None  3.566244412926132E8      None   \n",
       "2  stddev     None  1.574845634895318E8      None   \n",
       "3     min   female                99296  aerobics   \n",
       "4     max  unknown            674008008      yoga   \n",
       "\n",
       "                                                 url              userId  \n",
       "0                                             253020              253020  \n",
       "1                                               None   4619648.939783417  \n",
       "2                                               None  3932877.7296880507  \n",
       "3  https://www.endomondo.com/users/10014612/worko...                  69  \n",
       "4  https://www.endomondo.com/users/9991401/workou...            15481421  "
      ]
     },
     "execution_count": 23,
     "metadata": {},
     "output_type": "execute_result"
    }
   ],
   "source": [
    "df.describe().toPandas()"
   ]
  },
  {
   "cell_type": "code",
   "execution_count": 24,
   "metadata": {},
   "outputs": [
    {
     "data": {
      "text/html": [
       "<div>\n",
       "<style scoped>\n",
       "    .dataframe tbody tr th:only-of-type {\n",
       "        vertical-align: middle;\n",
       "    }\n",
       "\n",
       "    .dataframe tbody tr th {\n",
       "        vertical-align: top;\n",
       "    }\n",
       "\n",
       "    .dataframe thead th {\n",
       "        text-align: right;\n",
       "    }\n",
       "</style>\n",
       "<table border=\"1\" class=\"dataframe\">\n",
       "  <thead>\n",
       "    <tr style=\"text-align: right;\">\n",
       "      <th></th>\n",
       "      <th>altitude</th>\n",
       "      <th>gender</th>\n",
       "      <th>heart_rate</th>\n",
       "      <th>id</th>\n",
       "      <th>latitude</th>\n",
       "      <th>longitude</th>\n",
       "      <th>speed</th>\n",
       "      <th>sport</th>\n",
       "      <th>timestamp</th>\n",
       "      <th>url</th>\n",
       "      <th>userId</th>\n",
       "    </tr>\n",
       "  </thead>\n",
       "  <tbody>\n",
       "    <tr>\n",
       "      <th>0</th>\n",
       "      <td>[41.6, 40.6, 40.6, 38.4, 37.0, 34.0, 34.0, 34....</td>\n",
       "      <td>male</td>\n",
       "      <td>[100, 111, 120, 119, 120, 116, 125, 128, 131, ...</td>\n",
       "      <td>396826535</td>\n",
       "      <td>[60.173348765820265, 60.173239801079035, 60.17...</td>\n",
       "      <td>[24.64977040886879, 24.65014273300767, 24.6509...</td>\n",
       "      <td>[6.8652, 16.4736, 19.1988, 20.4804, 31.3956, 3...</td>\n",
       "      <td>bike</td>\n",
       "      <td>[1408898746, 1408898754, 1408898765, 140889877...</td>\n",
       "      <td>https://www.endomondo.com/users/10921915/worko...</td>\n",
       "      <td>10921915</td>\n",
       "    </tr>\n",
       "    <tr>\n",
       "      <th>1</th>\n",
       "      <td>[38.4, 39.0, 39.0, 38.2, 36.8, 36.8, 36.8, 35....</td>\n",
       "      <td>male</td>\n",
       "      <td>[100, 105, 111, 110, 108, 115, 126, 130, 132, ...</td>\n",
       "      <td>392337038</td>\n",
       "      <td>[60.173247596248984, 60.17320962622762, 60.172...</td>\n",
       "      <td>[24.649855233728886, 24.65015547350049, 24.650...</td>\n",
       "      <td>[9.0792, 13.284, 15.9336, 10.9476, 16.1676, 30...</td>\n",
       "      <td>bike</td>\n",
       "      <td>[1408221682, 1408221687, 1408221699, 140822170...</td>\n",
       "      <td>https://www.endomondo.com/users/10921915/worko...</td>\n",
       "      <td>10921915</td>\n",
       "    </tr>\n",
       "  </tbody>\n",
       "</table>\n",
       "</div>"
      ],
      "text/plain": [
       "                                            altitude gender  \\\n",
       "0  [41.6, 40.6, 40.6, 38.4, 37.0, 34.0, 34.0, 34....   male   \n",
       "1  [38.4, 39.0, 39.0, 38.2, 36.8, 36.8, 36.8, 35....   male   \n",
       "\n",
       "                                          heart_rate         id  \\\n",
       "0  [100, 111, 120, 119, 120, 116, 125, 128, 131, ...  396826535   \n",
       "1  [100, 105, 111, 110, 108, 115, 126, 130, 132, ...  392337038   \n",
       "\n",
       "                                            latitude  \\\n",
       "0  [60.173348765820265, 60.173239801079035, 60.17...   \n",
       "1  [60.173247596248984, 60.17320962622762, 60.172...   \n",
       "\n",
       "                                           longitude  \\\n",
       "0  [24.64977040886879, 24.65014273300767, 24.6509...   \n",
       "1  [24.649855233728886, 24.65015547350049, 24.650...   \n",
       "\n",
       "                                               speed sport  \\\n",
       "0  [6.8652, 16.4736, 19.1988, 20.4804, 31.3956, 3...  bike   \n",
       "1  [9.0792, 13.284, 15.9336, 10.9476, 16.1676, 30...  bike   \n",
       "\n",
       "                                           timestamp  \\\n",
       "0  [1408898746, 1408898754, 1408898765, 140889877...   \n",
       "1  [1408221682, 1408221687, 1408221699, 140822170...   \n",
       "\n",
       "                                                 url    userId  \n",
       "0  https://www.endomondo.com/users/10921915/worko...  10921915  \n",
       "1  https://www.endomondo.com/users/10921915/worko...  10921915  "
      ]
     },
     "execution_count": 24,
     "metadata": {},
     "output_type": "execute_result"
    }
   ],
   "source": [
    "df.limit(2).toPandas()"
   ]
  },
  {
   "cell_type": "markdown",
   "metadata": {},
   "source": []
  },
  {
   "cell_type": "code",
   "execution_count": 25,
   "metadata": {},
   "outputs": [
    {
     "name": "stderr",
     "output_type": "stream",
     "text": [
      "[Stage 33:======================================================> (48 + 1) / 49]\r"
     ]
    },
    {
     "name": "stdout",
     "output_type": "stream",
     "text": [
      "There are 253020 rows.\n"
     ]
    },
    {
     "name": "stderr",
     "output_type": "stream",
     "text": [
      "                                                                                \r"
     ]
    }
   ],
   "source": [
    "print(f\"There are {df.count()} rows.\")"
   ]
  },
  {
   "attachments": {},
   "cell_type": "markdown",
   "metadata": {},
   "source": [
    "## Missing Values and Abnormal Zeroes"
   ]
  },
  {
   "cell_type": "code",
   "execution_count": 26,
   "metadata": {},
   "outputs": [
    {
     "name": "stderr",
     "output_type": "stream",
     "text": [
      "                                                                                \r"
     ]
    },
    {
     "data": {
      "text/html": [
       "<div>\n",
       "<style scoped>\n",
       "    .dataframe tbody tr th:only-of-type {\n",
       "        vertical-align: middle;\n",
       "    }\n",
       "\n",
       "    .dataframe tbody tr th {\n",
       "        vertical-align: top;\n",
       "    }\n",
       "\n",
       "    .dataframe thead th {\n",
       "        text-align: right;\n",
       "    }\n",
       "</style>\n",
       "<table border=\"1\" class=\"dataframe\">\n",
       "  <thead>\n",
       "    <tr style=\"text-align: right;\">\n",
       "      <th></th>\n",
       "      <th>altitude</th>\n",
       "      <th>gender</th>\n",
       "      <th>heart_rate</th>\n",
       "      <th>id</th>\n",
       "      <th>latitude</th>\n",
       "      <th>longitude</th>\n",
       "      <th>speed</th>\n",
       "      <th>sport</th>\n",
       "      <th>timestamp</th>\n",
       "      <th>url</th>\n",
       "      <th>userId</th>\n",
       "    </tr>\n",
       "  </thead>\n",
       "  <tbody>\n",
       "    <tr>\n",
       "      <th>0</th>\n",
       "      <td>40848</td>\n",
       "      <td>0</td>\n",
       "      <td>1280</td>\n",
       "      <td>0</td>\n",
       "      <td>113</td>\n",
       "      <td>113</td>\n",
       "      <td>7741</td>\n",
       "      <td>0</td>\n",
       "      <td>0</td>\n",
       "      <td>0</td>\n",
       "      <td>0</td>\n",
       "    </tr>\n",
       "  </tbody>\n",
       "</table>\n",
       "</div>"
      ],
      "text/plain": [
       "   altitude  gender  heart_rate  id  latitude  longitude  speed  sport  \\\n",
       "0     40848       0        1280   0       113        113   7741      0   \n",
       "\n",
       "   timestamp  url  userId  \n",
       "0          0    0       0  "
      ]
     },
     "execution_count": 26,
     "metadata": {},
     "output_type": "execute_result"
    }
   ],
   "source": [
    "from pyspark.sql.functions import col, array_contains\n",
    "\n",
    "string_columns = ['gender', 'sport', 'url']\n",
    "numeric_columns = ['id','userId']\n",
    "array_columns = ['altitude', 'heart_rate', 'latitude', 'longitude', 'speed', 'timestamp']\n",
    "\n",
    "missing_values = {}\n",
    "\n",
    "for index, column in enumerate(df.columns):\n",
    "\n",
    "    # Check for columns with None and Null values\n",
    "    if column in string_columns:\n",
    "        # Get missing count per col\n",
    "        missing_count = df.filter(col(column).eqNullSafe(None) | col(column).isNull()).count() # eqNullSafe -> Equality test that is safe for null values\n",
    "\n",
    "       \n",
    "    \n",
    "    # Check for columns with zeroes, None, NaN\n",
    "    if column in numeric_columns:\n",
    "        # Miss Count\n",
    "        missing_count = df.where(col(column).isin([0, None, np.nan])).count()\n",
    "\n",
    "    # Check for columns with zeroes and NaN\n",
    "    if column in array_columns:\n",
    "        # Miss Count\n",
    "        missing_count = df.filter(array_contains(df[column], 0) | array_contains(df[column], np.nan)).count()\n",
    "\n",
    "    # Add to dict\n",
    "    missing_values.update({column: missing_count})\n",
    "\n",
    "missing_df = pd.DataFrame.from_dict([missing_values])\n",
    "missing_df"
   ]
  },
  {
   "cell_type": "code",
   "execution_count": 29,
   "metadata": {},
   "outputs": [
    {
     "data": {
      "text/html": [
       "<div>\n",
       "<style scoped>\n",
       "    .dataframe tbody tr th:only-of-type {\n",
       "        vertical-align: middle;\n",
       "    }\n",
       "\n",
       "    .dataframe tbody tr th {\n",
       "        vertical-align: top;\n",
       "    }\n",
       "\n",
       "    .dataframe thead th {\n",
       "        text-align: right;\n",
       "    }\n",
       "</style>\n",
       "<table border=\"1\" class=\"dataframe\">\n",
       "  <thead>\n",
       "    <tr style=\"text-align: right;\">\n",
       "      <th></th>\n",
       "      <th>altitude</th>\n",
       "      <th>gender</th>\n",
       "      <th>heart_rate</th>\n",
       "      <th>id</th>\n",
       "      <th>latitude</th>\n",
       "      <th>longitude</th>\n",
       "      <th>speed</th>\n",
       "      <th>sport</th>\n",
       "      <th>timestamp</th>\n",
       "      <th>url</th>\n",
       "      <th>userId</th>\n",
       "    </tr>\n",
       "  </thead>\n",
       "  <tbody>\n",
       "    <tr>\n",
       "      <th>0</th>\n",
       "      <td>[41.6, 40.6, 40.6, 38.4, 37.0, 34.0, 34.0, 34....</td>\n",
       "      <td>male</td>\n",
       "      <td>[100, 111, 120, 119, 120, 116, 125, 128, 131, ...</td>\n",
       "      <td>396826535</td>\n",
       "      <td>[60.173348765820265, 60.173239801079035, 60.17...</td>\n",
       "      <td>[24.64977040886879, 24.65014273300767, 24.6509...</td>\n",
       "      <td>[6.8652, 16.4736, 19.1988, 20.4804, 31.3956, 3...</td>\n",
       "      <td>bike</td>\n",
       "      <td>[1408898746, 1408898754, 1408898765, 140889877...</td>\n",
       "      <td>https://www.endomondo.com/users/10921915/worko...</td>\n",
       "      <td>10921915</td>\n",
       "    </tr>\n",
       "  </tbody>\n",
       "</table>\n",
       "</div>"
      ],
      "text/plain": [
       "                                            altitude gender  \\\n",
       "0  [41.6, 40.6, 40.6, 38.4, 37.0, 34.0, 34.0, 34....   male   \n",
       "\n",
       "                                          heart_rate         id  \\\n",
       "0  [100, 111, 120, 119, 120, 116, 125, 128, 131, ...  396826535   \n",
       "\n",
       "                                            latitude  \\\n",
       "0  [60.173348765820265, 60.173239801079035, 60.17...   \n",
       "\n",
       "                                           longitude  \\\n",
       "0  [24.64977040886879, 24.65014273300767, 24.6509...   \n",
       "\n",
       "                                               speed sport  \\\n",
       "0  [6.8652, 16.4736, 19.1988, 20.4804, 31.3956, 3...  bike   \n",
       "\n",
       "                                           timestamp  \\\n",
       "0  [1408898746, 1408898754, 1408898765, 140889877...   \n",
       "\n",
       "                                                 url    userId  \n",
       "0  https://www.endomondo.com/users/10921915/worko...  10921915  "
      ]
     },
     "execution_count": 29,
     "metadata": {},
     "output_type": "execute_result"
    }
   ],
   "source": [
    "df.limit(1).toPandas()"
   ]
  },
  {
   "cell_type": "code",
   "execution_count": 32,
   "metadata": {},
   "outputs": [
    {
     "data": {
      "text/html": [
       "<div>\n",
       "<style scoped>\n",
       "    .dataframe tbody tr th:only-of-type {\n",
       "        vertical-align: middle;\n",
       "    }\n",
       "\n",
       "    .dataframe tbody tr th {\n",
       "        vertical-align: top;\n",
       "    }\n",
       "\n",
       "    .dataframe thead th {\n",
       "        text-align: right;\n",
       "    }\n",
       "</style>\n",
       "<table border=\"1\" class=\"dataframe\">\n",
       "  <thead>\n",
       "    <tr style=\"text-align: right;\">\n",
       "      <th></th>\n",
       "      <th>altitude</th>\n",
       "      <th>gender</th>\n",
       "      <th>heart_rate</th>\n",
       "      <th>id</th>\n",
       "      <th>latitude</th>\n",
       "      <th>longitude</th>\n",
       "      <th>speed</th>\n",
       "      <th>sport</th>\n",
       "      <th>timestamp</th>\n",
       "      <th>url</th>\n",
       "      <th>userId</th>\n",
       "      <th>PerWorkoutRecordCount</th>\n",
       "    </tr>\n",
       "  </thead>\n",
       "  <tbody>\n",
       "    <tr>\n",
       "      <th>0</th>\n",
       "      <td>[41.6, 40.6, 40.6, 38.4, 37.0, 34.0, 34.0, 34....</td>\n",
       "      <td>male</td>\n",
       "      <td>[100, 111, 120, 119, 120, 116, 125, 128, 131, ...</td>\n",
       "      <td>396826535</td>\n",
       "      <td>[60.173348765820265, 60.173239801079035, 60.17...</td>\n",
       "      <td>[24.64977040886879, 24.65014273300767, 24.6509...</td>\n",
       "      <td>[6.8652, 16.4736, 19.1988, 20.4804, 31.3956, 3...</td>\n",
       "      <td>bike</td>\n",
       "      <td>[1408898746, 1408898754, 1408898765, 140889877...</td>\n",
       "      <td>https://www.endomondo.com/users/10921915/worko...</td>\n",
       "      <td>10921915</td>\n",
       "      <td>500</td>\n",
       "    </tr>\n",
       "  </tbody>\n",
       "</table>\n",
       "</div>"
      ],
      "text/plain": [
       "                                            altitude gender  \\\n",
       "0  [41.6, 40.6, 40.6, 38.4, 37.0, 34.0, 34.0, 34....   male   \n",
       "\n",
       "                                          heart_rate         id  \\\n",
       "0  [100, 111, 120, 119, 120, 116, 125, 128, 131, ...  396826535   \n",
       "\n",
       "                                            latitude  \\\n",
       "0  [60.173348765820265, 60.173239801079035, 60.17...   \n",
       "\n",
       "                                           longitude  \\\n",
       "0  [24.64977040886879, 24.65014273300767, 24.6509...   \n",
       "\n",
       "                                               speed sport  \\\n",
       "0  [6.8652, 16.4736, 19.1988, 20.4804, 31.3956, 3...  bike   \n",
       "\n",
       "                                           timestamp  \\\n",
       "0  [1408898746, 1408898754, 1408898765, 140889877...   \n",
       "\n",
       "                                                 url    userId  \\\n",
       "0  https://www.endomondo.com/users/10921915/worko...  10921915   \n",
       "\n",
       "   PerWorkoutRecordCount  \n",
       "0                    500  "
      ]
     },
     "execution_count": 32,
     "metadata": {},
     "output_type": "execute_result"
    }
   ],
   "source": [
    "from pyspark.sql.functions import size\n",
    "\n",
    "# Create a new column to count the number of timestamps recorded per row/workout\n",
    "df = df.withColumn('PerWorkoutRecordCount', size(col('timestamp')))\n",
    "df.limit(1).toPandas()\n"
   ]
  },
  {
   "cell_type": "code",
   "execution_count": 38,
   "metadata": {},
   "outputs": [
    {
     "name": "stderr",
     "output_type": "stream",
     "text": [
      "                                                                                \r"
     ]
    },
    {
     "data": {
      "text/html": [
       "<div>\n",
       "<style scoped>\n",
       "    .dataframe tbody tr th:only-of-type {\n",
       "        vertical-align: middle;\n",
       "    }\n",
       "\n",
       "    .dataframe tbody tr th {\n",
       "        vertical-align: top;\n",
       "    }\n",
       "\n",
       "    .dataframe thead th {\n",
       "        text-align: right;\n",
       "    }\n",
       "</style>\n",
       "<table border=\"1\" class=\"dataframe\">\n",
       "  <thead>\n",
       "    <tr style=\"text-align: right;\">\n",
       "      <th></th>\n",
       "      <th>gender</th>\n",
       "      <th>count</th>\n",
       "    </tr>\n",
       "  </thead>\n",
       "  <tbody>\n",
       "    <tr>\n",
       "      <th>0</th>\n",
       "      <td>unknown</td>\n",
       "      <td>1942</td>\n",
       "    </tr>\n",
       "    <tr>\n",
       "      <th>1</th>\n",
       "      <td>female</td>\n",
       "      <td>15959</td>\n",
       "    </tr>\n",
       "    <tr>\n",
       "      <th>2</th>\n",
       "      <td>male</td>\n",
       "      <td>235119</td>\n",
       "    </tr>\n",
       "  </tbody>\n",
       "</table>\n",
       "</div>"
      ],
      "text/plain": [
       "    gender   count\n",
       "0  unknown    1942\n",
       "1   female   15959\n",
       "2     male  235119"
      ]
     },
     "execution_count": 38,
     "metadata": {},
     "output_type": "execute_result"
    }
   ],
   "source": [
    "df.groupBy('gender').count().toPandas()"
   ]
  },
  {
   "cell_type": "code",
   "execution_count": 39,
   "metadata": {},
   "outputs": [
    {
     "name": "stderr",
     "output_type": "stream",
     "text": [
      "                                                                                \r"
     ]
    },
    {
     "data": {
      "text/plain": [
       "(  Users count Activity types count Workouts count Total records count\n",
       " 0       1,104                   49        253,020         111,541,956,\n",
       "     Gender  # of users  Activities (workouts) count\n",
       " 0  unknown          15                         1942\n",
       " 1   female         110                        15959\n",
       " 2     male         979                       235119)"
      ]
     },
     "execution_count": 39,
     "metadata": {},
     "output_type": "execute_result"
    }
   ],
   "source": [
    "\n",
    "import pyspark.sql\n",
    "from pyspark.sql import functions\n",
    "def user_activity_workout_summarize(df: pyspark.sql.DataFrame):\n",
    "\n",
    "    # Count of unique values\n",
    "    user_count = format(df.select('userId').distinct().count(), ',d')\n",
    "    workout_count = format(df.select('id').distinct().count(), ',d')\n",
    "    activity_count = str(df.select('sport').distinct().count())\n",
    "\n",
    "    # Sum of all PerWorkoutRecordCount\n",
    "    sum_temp = df.agg(functions.sum('PerWorkoutRecordCount')).toPandas()\n",
    "    total_records_count = format(sum_temp['sum(PerWorkoutRecordCount)'][0], ',d')\n",
    "\n",
    "    columns = ['Users count', 'Activity types count', 'Workouts count', 'Total records count']\n",
    "\n",
    "    data = [[user_count], [activity_count], [workout_count], [total_records_count]]\n",
    "\n",
    "    # Data to dict then dataframe\n",
    "    sum_dict = {column: data[i] for i, column in enumerate(columns)}\n",
    "    sum_df = pd.DataFrame.from_dict(sum_dict)[columns]\n",
    "\n",
    "    # Get count of unique users per gender\n",
    "    gender_user_count = df.select('gender', 'userId').distinct().groupBy('gender').count().toPandas()\n",
    "\n",
    "    # Count of unique genders\n",
    "    gender_activities_count = df.groupBy('gender').count().toPandas()\n",
    "\n",
    "    gender_user_activity_count = gender_user_count.join(\n",
    "        gender_activities_count.set_index('gender'),\n",
    "        on ='gender',\n",
    "        how = 'inner',\n",
    "        lsuffix='_gu'\n",
    "    )   \n",
    "    gender_user_activity_count.columns = ['Gender', '# of users', 'Activities (workouts) count']\n",
    "\n",
    "    return sum_df, gender_user_activity_count\n",
    "\n",
    "sum_dfs = user_activity_workout_summarize(df)\n",
    "\n",
    "sum_dfs\n",
    "\n"
   ]
  },
  {
   "cell_type": "code",
   "execution_count": 40,
   "metadata": {},
   "outputs": [
    {
     "data": {
      "text/html": [
       "<div>\n",
       "<style scoped>\n",
       "    .dataframe tbody tr th:only-of-type {\n",
       "        vertical-align: middle;\n",
       "    }\n",
       "\n",
       "    .dataframe tbody tr th {\n",
       "        vertical-align: top;\n",
       "    }\n",
       "\n",
       "    .dataframe thead th {\n",
       "        text-align: right;\n",
       "    }\n",
       "</style>\n",
       "<table border=\"1\" class=\"dataframe\">\n",
       "  <thead>\n",
       "    <tr style=\"text-align: right;\">\n",
       "      <th></th>\n",
       "      <th>Users count</th>\n",
       "      <th>Activity types count</th>\n",
       "      <th>Workouts count</th>\n",
       "      <th>Total records count</th>\n",
       "    </tr>\n",
       "  </thead>\n",
       "  <tbody>\n",
       "    <tr>\n",
       "      <th>0</th>\n",
       "      <td>1,104</td>\n",
       "      <td>49</td>\n",
       "      <td>253,020</td>\n",
       "      <td>111,541,956</td>\n",
       "    </tr>\n",
       "  </tbody>\n",
       "</table>\n",
       "</div>"
      ],
      "text/plain": [
       "  Users count Activity types count Workouts count Total records count\n",
       "0       1,104                   49        253,020         111,541,956"
      ]
     },
     "execution_count": 40,
     "metadata": {},
     "output_type": "execute_result"
    }
   ],
   "source": [
    "sum_dfs[0]"
   ]
  },
  {
   "cell_type": "code",
   "execution_count": 41,
   "metadata": {},
   "outputs": [
    {
     "data": {
      "text/html": [
       "<div>\n",
       "<style scoped>\n",
       "    .dataframe tbody tr th:only-of-type {\n",
       "        vertical-align: middle;\n",
       "    }\n",
       "\n",
       "    .dataframe tbody tr th {\n",
       "        vertical-align: top;\n",
       "    }\n",
       "\n",
       "    .dataframe thead th {\n",
       "        text-align: right;\n",
       "    }\n",
       "</style>\n",
       "<table border=\"1\" class=\"dataframe\">\n",
       "  <thead>\n",
       "    <tr style=\"text-align: right;\">\n",
       "      <th></th>\n",
       "      <th>Gender</th>\n",
       "      <th># of users</th>\n",
       "      <th>Activities (workouts) count</th>\n",
       "    </tr>\n",
       "  </thead>\n",
       "  <tbody>\n",
       "    <tr>\n",
       "      <th>0</th>\n",
       "      <td>unknown</td>\n",
       "      <td>15</td>\n",
       "      <td>1942</td>\n",
       "    </tr>\n",
       "    <tr>\n",
       "      <th>1</th>\n",
       "      <td>female</td>\n",
       "      <td>110</td>\n",
       "      <td>15959</td>\n",
       "    </tr>\n",
       "    <tr>\n",
       "      <th>2</th>\n",
       "      <td>male</td>\n",
       "      <td>979</td>\n",
       "      <td>235119</td>\n",
       "    </tr>\n",
       "  </tbody>\n",
       "</table>\n",
       "</div>"
      ],
      "text/plain": [
       "    Gender  # of users  Activities (workouts) count\n",
       "0  unknown          15                         1942\n",
       "1   female         110                        15959\n",
       "2     male         979                       235119"
      ]
     },
     "execution_count": 41,
     "metadata": {},
     "output_type": "execute_result"
    }
   ],
   "source": [
    "sum_dfs[1]"
   ]
  },
  {
   "cell_type": "code",
   "execution_count": 44,
   "metadata": {},
   "outputs": [
    {
     "name": "stderr",
     "output_type": "stream",
     "text": [
      "                                                                                \r"
     ]
    },
    {
     "data": {
      "text/html": [
       "<div>\n",
       "<style scoped>\n",
       "    .dataframe tbody tr th:only-of-type {\n",
       "        vertical-align: middle;\n",
       "    }\n",
       "\n",
       "    .dataframe tbody tr th {\n",
       "        vertical-align: top;\n",
       "    }\n",
       "\n",
       "    .dataframe thead th {\n",
       "        text-align: right;\n",
       "    }\n",
       "</style>\n",
       "<table border=\"1\" class=\"dataframe\">\n",
       "  <thead>\n",
       "    <tr style=\"text-align: right;\">\n",
       "      <th></th>\n",
       "      <th>count</th>\n",
       "      <th>mean</th>\n",
       "      <th>std</th>\n",
       "      <th>min</th>\n",
       "      <th>25%</th>\n",
       "      <th>50%</th>\n",
       "      <th>75%</th>\n",
       "      <th>max</th>\n",
       "    </tr>\n",
       "  </thead>\n",
       "  <tbody>\n",
       "    <tr>\n",
       "      <th>PerWorkoutRecordCount &lt; 50</th>\n",
       "      <td>5541</td>\n",
       "      <td>23</td>\n",
       "      <td>14</td>\n",
       "      <td>1</td>\n",
       "      <td>11</td>\n",
       "      <td>22</td>\n",
       "      <td>36</td>\n",
       "      <td>49</td>\n",
       "    </tr>\n",
       "  </tbody>\n",
       "</table>\n",
       "</div>"
      ],
      "text/plain": [
       "                            count  mean  std  min  25%  50%  75%  max\n",
       "PerWorkoutRecordCount < 50   5541    23   14    1   11   22   36   49"
      ]
     },
     "execution_count": 44,
     "metadata": {},
     "output_type": "execute_result"
    }
   ],
   "source": [
    "# Data about workouts having less than 50 records\n",
    "removed_df = df.select('PerWorkoutRecordCount').where(df.PerWorkoutRecordCount < 50).toPandas().describe().astype(int)\n",
    "\n",
    "removed_df.rename(columns = {'PerWorkoutRecordCount': 'PerWorkoutRecordCount < 50'}, inplace = True)\n",
    "removed_df.T"
   ]
  },
  {
   "cell_type": "code",
   "execution_count": 59,
   "metadata": {},
   "outputs": [
    {
     "name": "stderr",
     "output_type": "stream",
     "text": [
      "                                                                                \r"
     ]
    },
    {
     "data": {
      "text/html": [
       "<div>\n",
       "<style scoped>\n",
       "    .dataframe tbody tr th:only-of-type {\n",
       "        vertical-align: middle;\n",
       "    }\n",
       "\n",
       "    .dataframe tbody tr th {\n",
       "        vertical-align: top;\n",
       "    }\n",
       "\n",
       "    .dataframe thead th {\n",
       "        text-align: right;\n",
       "    }\n",
       "</style>\n",
       "<table border=\"1\" class=\"dataframe\">\n",
       "  <thead>\n",
       "    <tr style=\"text-align: right;\">\n",
       "      <th></th>\n",
       "      <th>sport</th>\n",
       "      <th>Users count</th>\n",
       "    </tr>\n",
       "  </thead>\n",
       "  <tbody>\n",
       "    <tr>\n",
       "      <th>0</th>\n",
       "      <td>run</td>\n",
       "      <td>865</td>\n",
       "    </tr>\n",
       "    <tr>\n",
       "      <th>1</th>\n",
       "      <td>bike</td>\n",
       "      <td>794</td>\n",
       "    </tr>\n",
       "    <tr>\n",
       "      <th>2</th>\n",
       "      <td>mountain bike</td>\n",
       "      <td>336</td>\n",
       "    </tr>\n",
       "    <tr>\n",
       "      <th>3</th>\n",
       "      <td>bike (transport)</td>\n",
       "      <td>252</td>\n",
       "    </tr>\n",
       "    <tr>\n",
       "      <th>4</th>\n",
       "      <td>walk</td>\n",
       "      <td>209</td>\n",
       "    </tr>\n",
       "  </tbody>\n",
       "</table>\n",
       "</div>"
      ],
      "text/plain": [
       "              sport  Users count\n",
       "0               run          865\n",
       "1              bike          794\n",
       "2     mountain bike          336\n",
       "3  bike (transport)          252\n",
       "4              walk          209"
      ]
     },
     "execution_count": 59,
     "metadata": {},
     "output_type": "execute_result"
    }
   ],
   "source": [
    "# Getting workout sport done by most user\n",
    "ranked_sport_users_df = df.select(df.sport, df.userId) \\\n",
    "    .distinct() \\\n",
    "    .groupBy(df.sport) \\\n",
    "    .count() \\\n",
    "    .orderBy('count', ascending=False)\n",
    "\n",
    "# Top 5 workout types\n",
    "highest_sport_users_df = ranked_sport_users_df.limit(5).toPandas()\n",
    "# Rename column name : 'count' --> Users count\n",
    "highest_sport_users_df.rename(columns = {'count':'Users count'}, inplace = True)\n",
    "\n",
    "highest_sport_users_df\n",
    "\n"
   ]
  },
  {
   "cell_type": "code",
   "execution_count": 56,
   "metadata": {},
   "outputs": [
    {
     "name": "stderr",
     "output_type": "stream",
     "text": [
      "                                                                                \r"
     ]
    }
   ],
   "source": [
    "total_sports_users = ranked_sport_users_df.groupBy().sum().collect()"
   ]
  },
  {
   "cell_type": "code",
   "execution_count": 58,
   "metadata": {},
   "outputs": [
    {
     "data": {
      "text/plain": [
       "3442"
      ]
     },
     "execution_count": 58,
     "metadata": {},
     "output_type": "execute_result"
    }
   ],
   "source": [
    "total_sports_users[0][0]"
   ]
  },
  {
   "attachments": {},
   "cell_type": "markdown",
   "metadata": {},
   "source": [
    "## Exploratory Data Analysis"
   ]
  },
  {
   "cell_type": "code",
   "execution_count": 75,
   "metadata": {},
   "outputs": [
    {
     "data": {
      "text/plain": [
       "0    25.130738\n",
       "1    23.067984\n",
       "2     9.761766\n",
       "3     7.321325\n",
       "4     6.072051\n",
       "Name: percentage, dtype: float64"
      ]
     },
     "execution_count": 75,
     "metadata": {},
     "output_type": "execute_result"
    }
   ],
   "source": [
    "highest_sport_users_df_renamed = highest_sport_users_df\n",
    "\n",
    "# Get percentage of top 5 sports\n",
    "highest_sport_users_df_renamed['percentage'] = highest_sport_users_df['Users count'] / total_sports_users[0][0] * 100\n",
    "highest_sport_users_df_renamed['percentage']"
   ]
  },
  {
   "cell_type": "code",
   "execution_count": 76,
   "metadata": {},
   "outputs": [
    {
     "data": {
      "text/plain": [
       "{'sport': 'others', 'Users count': 986, 'percentage': 28.64613596746078}"
      ]
     },
     "execution_count": 76,
     "metadata": {},
     "output_type": "execute_result"
    }
   ],
   "source": [
    "# Assign rest of the users as 'other'\n",
    "\n",
    "others = {\n",
    "    'sport': 'others',\n",
    "    'Users count': total_sports_users[0][0] - sum(highest_sport_users_df_renamed['Users count']),\n",
    "    'percentage': 100 - sum(highest_sport_users_df_renamed['percentage'])\n",
    "}\n",
    "others"
   ]
  },
  {
   "cell_type": "code",
   "execution_count": 77,
   "metadata": {},
   "outputs": [
    {
     "name": "stderr",
     "output_type": "stream",
     "text": [
      "/tmp/ipykernel_3613/3746181748.py:3: FutureWarning: The frame.append method is deprecated and will be removed from pandas in a future version. Use pandas.concat instead.\n",
      "  highest_sport_users_df_renamed = highest_sport_users_df_renamed.append(\n"
     ]
    },
    {
     "data": {
      "text/html": [
       "<div>\n",
       "<style scoped>\n",
       "    .dataframe tbody tr th:only-of-type {\n",
       "        vertical-align: middle;\n",
       "    }\n",
       "\n",
       "    .dataframe tbody tr th {\n",
       "        vertical-align: top;\n",
       "    }\n",
       "\n",
       "    .dataframe thead th {\n",
       "        text-align: right;\n",
       "    }\n",
       "</style>\n",
       "<table border=\"1\" class=\"dataframe\">\n",
       "  <thead>\n",
       "    <tr style=\"text-align: right;\">\n",
       "      <th></th>\n",
       "      <th>sport</th>\n",
       "      <th>Users count</th>\n",
       "      <th>percentage</th>\n",
       "    </tr>\n",
       "  </thead>\n",
       "  <tbody>\n",
       "    <tr>\n",
       "      <th>0</th>\n",
       "      <td>run</td>\n",
       "      <td>865</td>\n",
       "      <td>25.130738</td>\n",
       "    </tr>\n",
       "    <tr>\n",
       "      <th>1</th>\n",
       "      <td>bike</td>\n",
       "      <td>794</td>\n",
       "      <td>23.067984</td>\n",
       "    </tr>\n",
       "    <tr>\n",
       "      <th>2</th>\n",
       "      <td>mountain bike</td>\n",
       "      <td>336</td>\n",
       "      <td>9.761766</td>\n",
       "    </tr>\n",
       "    <tr>\n",
       "      <th>3</th>\n",
       "      <td>bike (transport)</td>\n",
       "      <td>252</td>\n",
       "      <td>7.321325</td>\n",
       "    </tr>\n",
       "    <tr>\n",
       "      <th>4</th>\n",
       "      <td>walk</td>\n",
       "      <td>209</td>\n",
       "      <td>6.072051</td>\n",
       "    </tr>\n",
       "    <tr>\n",
       "      <th>5</th>\n",
       "      <td>others</td>\n",
       "      <td>986</td>\n",
       "      <td>28.646136</td>\n",
       "    </tr>\n",
       "  </tbody>\n",
       "</table>\n",
       "</div>"
      ],
      "text/plain": [
       "              sport  Users count  percentage\n",
       "0               run          865   25.130738\n",
       "1              bike          794   23.067984\n",
       "2     mountain bike          336    9.761766\n",
       "3  bike (transport)          252    7.321325\n",
       "4              walk          209    6.072051\n",
       "5            others          986   28.646136"
      ]
     },
     "execution_count": 77,
     "metadata": {},
     "output_type": "execute_result"
    }
   ],
   "source": [
    "# Add others to the sports percentage df\n",
    "\n",
    "highest_sport_users_df_renamed = highest_sport_users_df_renamed.append(\n",
    "    others, ignore_index=True\n",
    ")\n",
    "\n",
    "highest_sport_users_df_renamed"
   ]
  },
  {
   "cell_type": "code",
   "execution_count": 86,
   "metadata": {},
   "outputs": [
    {
     "data": {
      "image/png": "[encoded data removed]",
      "text/plain": [
       "<Figure size 640x480 with 1 Axes>"
      ]
     },
     "metadata": {},
     "output_type": "display_data"
    }
   ],
   "source": [
    "# Plotting\n",
    "import matplotlib.pyplot as plt\n",
    "\n",
    "plt.title(\"Top 5 sports with most users\")\n",
    "plt.pie(highest_sport_users_df_renamed['percentage'], labels =  highest_sport_users_df_renamed['sport'], autopct='%.0f%%', shadow = True, explode = (0.1, .1, .3, .3, .1, .1));"
   ]
  },
  {
   "cell_type": "code",
   "execution_count": null,
   "metadata": {},
   "outputs": [],
   "source": []
  }
 ],
 "metadata": {
  "kernelspec": {
   "display_name": "env",
   "language": "python",
   "name": "python3"
  },
  "language_info": {
   "codemirror_mode": {
    "name": "ipython",
    "version": 3
   },
   "file_extension": ".py",
   "mimetype": "text/x-python",
   "name": "python",
   "nbconvert_exporter": "python",
   "pygments_lexer": "ipython3",
   "version": "3.10.8"
  },
  "orig_nbformat": 4,
  "vscode": {
   "interpreter": {
    "hash": "df63add32a7940b2e1c5aa462fbf455c5b69f07faba4f5e92570f0b1dca1de6b"
   }
  }
 },
 "nbformat": 4,
 "nbformat_minor": 2
}
